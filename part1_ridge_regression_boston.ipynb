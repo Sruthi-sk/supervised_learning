{
 "cells": [
  {
   "cell_type": "code",
   "execution_count": 1,
   "metadata": {},
   "outputs": [],
   "source": [
    "import matplotlib.pyplot as plt\n",
    "import numpy as np\n",
    "import pandas as pd\n",
    "\n",
    "np.random.seed(0)"
   ]
  },
  {
   "cell_type": "markdown",
   "metadata": {},
   "source": [
    "## Q4 Baseline vs attribute LR vs full LR"
   ]
  },
  {
   "cell_type": "code",
   "execution_count": 2,
   "metadata": {},
   "outputs": [
    {
     "data": {
      "text/plain": [
       "(506, 13)"
      ]
     },
     "execution_count": 2,
     "metadata": {},
     "output_type": "execute_result"
    }
   ],
   "source": [
    "df = pd.read_csv('http://www0.cs.ucl.ac.uk/staff/M.Herbster/boston-filter/Boston-filtered.csv') \n",
    "df.shape"
   ]
  },
  {
   "cell_type": "code",
   "execution_count": 19,
   "metadata": {},
   "outputs": [
    {
     "data": {
      "text/plain": [
       "['CRIM',\n",
       " ' ZN ',\n",
       " 'INDUS ',\n",
       " 'CHAS',\n",
       " 'NOX',\n",
       " 'RM',\n",
       " 'AGE',\n",
       " 'DIS',\n",
       " 'RAD',\n",
       " 'TAX',\n",
       " 'PTRATIO',\n",
       " 'LSTAT']"
      ]
     },
     "execution_count": 19,
     "metadata": {},
     "output_type": "execute_result"
    }
   ],
   "source": [
    "Y_col = 'MEDV'\n",
    "X_cols = df.loc[:, df.columns != Y_col].columns\n",
    "features = list(X_cols)\n",
    "features"
   ]
  },
  {
   "cell_type": "code",
   "execution_count": 3,
   "metadata": {},
   "outputs": [],
   "source": [
    "target = 'MEDV'\n",
    "def get_train_test(df,split_proportion=2/3):\n",
    "    \"\"\"\n",
    "     Splits data into train and test sets based on split_proportion. \n",
    "     Args:\n",
    "     \t df: pandas dataframe to be split\n",
    "     \t split_proportion: proportion of all samples to be used for training\n",
    "     \n",
    "     Returns: \n",
    "     \t trainX, trainY, testX, testY\n",
    "    \"\"\"\n",
    "    shuffledidx = np.random.permutation(df.index)\n",
    "    m = len(df.index)\n",
    "    nsamples_train = int(split_proportion*m)\n",
    "    train = df.iloc[shuffledidx[:nsamples_train]]\n",
    "    test = df.iloc[shuffledidx[nsamples_train:]]\n",
    "    \n",
    "    trainY = train[target].to_numpy()\n",
    "    trainX = train.loc[:, train.columns != target].to_numpy() #.columns\n",
    "    testY = test[target].to_numpy()\n",
    "    testX = test.loc[:, test.columns != target].to_numpy()\n",
    "\n",
    "    return trainX, trainY, testX, testY"
   ]
  },
  {
   "cell_type": "code",
   "execution_count": 4,
   "metadata": {},
   "outputs": [],
   "source": [
    "def compute_mse(y_true, y_pred):\n",
    "    \"\"\"\n",
    "     Compute mean squared error ( MSE ) between two sets of labels\n",
    "     Args:\n",
    "     \t y_true: Ground truth ( correct ) target values.\n",
    "     \t y_pred: Estimated target values.\n",
    "     Returns: \n",
    "     \t Mean squared error\n",
    "    \"\"\"    \n",
    "    assert y_true.shape == y_pred.shape\n",
    "    return np.sum((y_true-y_pred)**2) / len(y_true)    "
   ]
  },
  {
   "cell_type": "code",
   "execution_count": 6,
   "metadata": {},
   "outputs": [],
   "source": [
    "# Naive Regression\n",
    "\n",
    "def NaiveRegressionCustom(xvals, yvals):\n",
    "    \"\"\"\n",
    "     Naive regression as a baseline\n",
    "     Args:\n",
    "     \t xvals: array of independent vars\n",
    "     \t yvals: array of target vars\n",
    "     Returns: \n",
    "     \t regression weights\n",
    "    \"\"\"\n",
    "    # feature matrix is a vector of ones\n",
    "    xvals = np.ones((xvals.shape[0],1))\n",
    "    # Linear Regression Fitting : W = (X.T X)^-1 X.T Y\n",
    "    wts = np.linalg.pinv(xvals.T @ xvals) @ xvals.T @ yvals\n",
    "    return wts\n",
    "\n",
    "def predict_NaiveRegressionCustom(xvals,wts):\n",
    "    \"\"\"     \n",
    "     Args:\n",
    "     \t xvals: x values to predict on\n",
    "     \t wts: regression weights\n",
    "     Returns: \n",
    "     \t predicted target variable\n",
    "    \"\"\"\n",
    "    xvals = np.ones((xvals.shape[0], 1)) # feature matrix is a vector of ones\n",
    "    return wts @ xvals.T"
   ]
  },
  {
   "cell_type": "code",
   "execution_count": 10,
   "metadata": {},
   "outputs": [
    {
     "name": "stdout",
     "output_type": "stream",
     "text": [
      "[22.25845697]\n",
      "22.258456973293768\n",
      "Train MSE:80.85144925111607, Test MSE: 91.76001423632094\n"
     ]
    }
   ],
   "source": [
    "trainX, trainY, testX, testY = get_train_test(df)\n",
    "# Fitting\n",
    "naive_wts = NaiveRegressionCustom(trainX, trainY)\n",
    "# Prediction\n",
    "train_pred = predict_NaiveRegressionCustom(trainX,naive_wts)\n",
    "train_mse = compute_mse(trainY, train_pred)\n",
    "test_pred = predict_NaiveRegressionCustom(testX,naive_wts)\n",
    "test_mse = compute_mse(testY, test_pred)\n",
    "print(naive_wts) # weights are the average of training examples\n",
    "print(np.average(trainY))\n",
    "print(f'Train MSE: {train_mse}, Test MSE: {test_mse}')"
   ]
  },
  {
   "cell_type": "code",
   "execution_count": 30,
   "metadata": {},
   "outputs": [],
   "source": [
    "# 20 runs\n",
    "naive_train_MSE_list = []\n",
    "naive_test_MSE_list = []\n",
    "for i in range(20):\n",
    "    trainX, trainY, testX, testY = get_train_test(df)\n",
    "    # Fitting\n",
    "    naive_wts = NaiveRegressionCustom(trainX, trainY)\n",
    "    # Prediction\n",
    "    train_pred = predict_NaiveRegressionCustom(trainX,naive_wts)\n",
    "    train_mse = compute_mse(trainY, train_pred)\n",
    "    naive_train_MSE_list.append(train_mse)\n",
    "    test_pred = predict_NaiveRegressionCustom(testX,naive_wts)\n",
    "    test_mse = compute_mse(testY, test_pred)\n",
    "    naive_test_MSE_list.append(test_mse)"
   ]
  },
  {
   "cell_type": "code",
   "execution_count": 31,
   "metadata": {},
   "outputs": [
    {
     "name": "stdout",
     "output_type": "stream",
     "text": [
      "Naive regression train MSE mean : 84.11766709225228, SD: 5.5152352796306445\n",
      "Naive regression test MSE mean: 85.2898626427924, SD: 10.858148273396655\n"
     ]
    }
   ],
   "source": [
    "print(f'Naive regression train MSE mean : {np.mean(naive_train_MSE_list)}, SD: {np.std(naive_train_MSE_list)}')\n",
    "print(f'Naive regression test MSE mean: {np.mean(naive_test_MSE_list)}, SD: {np.std(naive_test_MSE_list)}')"
   ]
  },
  {
   "cell_type": "markdown",
   "metadata": {},
   "source": [
    "4b) the constant function predicts a single, constant value for all observations corresponding to the average (or mean) of the target variable across all observations in each split of training set"
   ]
  },
  {
   "cell_type": "markdown",
   "metadata": {},
   "source": [
    "### 4c. Linear Regression with single attributes\n"
   ]
  },
  {
   "cell_type": "code",
   "execution_count": 11,
   "metadata": {},
   "outputs": [],
   "source": [
    "def LinearRegressionCustom(xvals, yvals):\n",
    "    \"\"\"\n",
    "     implementation of LinearRegression to get fitting weights\n",
    "     Args:\n",
    "     \t xvals: array of independent vars\n",
    "     \t yvals: array of target vars\n",
    "     Returns: \n",
    "     \t  regression weights   \n",
    "    \"\"\"\n",
    "    # incorporating a bias term\n",
    "    xvals = np.concatenate([np.ones((xvals.shape[0], 1)), xvals], axis=1)\n",
    "    wts = np.linalg.pinv(xvals.T @ xvals) @ xvals.T @ yvals\n",
    "    return wts\n",
    "def predict_LinearRegressionCustom(xvals,wts):\n",
    "    \"\"\"\n",
    "     Predict using custom linear regression.\n",
    "     Args:\n",
    "     \t xvals: x values to predict on\n",
    "     \t wts: regression weights\n",
    "     Returns: \n",
    "     \t predicted target variable\n",
    "    \"\"\"\n",
    "    xvals = np.concatenate([np.ones((xvals.shape[0], 1)), xvals], axis=1) # incorporating a bias term\n",
    "    return wts @ xvals.T"
   ]
  },
  {
   "cell_type": "code",
   "execution_count": 14,
   "metadata": {},
   "outputs": [
    {
     "name": "stdout",
     "output_type": "stream",
     "text": [
      "Train MSE list {0: 69.64729125303994, 1: 71.10816230694698, 2: 61.81213104404266, 3: 80.85820807654265, 4: 64.33607732185811, 5: 38.63929130897324, 6: 68.22314611823643, 7: 75.9298501897251, 8: 68.95025592606095, 9: 63.51807183070817, 10: 64.02331921551655, 11: 38.76004981809042}\n",
      "Test MSE list {0: 76.14221498496215, 1: 78.74896321121062, 2: 71.26348436103665, 3: 84.3684254027199, 4: 79.22115806111282, 5: 53.714996435865615, 6: 81.65933573327132, 7: 86.41429353181879, 8: 78.94387523246141, 9: 71.07814735897044, 10: 60.49822031127982, 11: 38.34869030829268}\n"
     ]
    }
   ],
   "source": [
    "train_attribute_MSE_all = {}\n",
    "test_attribute_MSE_all = {}\n",
    "# Linear Regression with single attributes\n",
    "trainX, trainY, testX, testY = get_train_test(df)\n",
    "# Iterating over each attribute\n",
    "for idx in range(trainX.shape[-1]):\n",
    "    attribute_train = np.array(trainX[:,idx]).reshape(-1,1)\n",
    "    # Fitting\n",
    "    attribute_weights = LinearRegressionCustom(attribute_train,trainY)\n",
    "    # Prediction\n",
    "    train_pred = predict_LinearRegressionCustom(attribute_train, attribute_weights)\n",
    "    train_mse = compute_mse(trainY, train_pred)\n",
    "    train_attribute_MSE_all[idx] = train_mse\n",
    "    attribute_test = np.array(testX[:,idx]).reshape(-1,1)\n",
    "    test_pred = predict_LinearRegressionCustom(attribute_test,attribute_weights)\n",
    "    test_mse = compute_mse(testY, test_pred)\n",
    "    test_attribute_MSE_all[idx] = test_mse\n",
    "\n",
    "print('Train MSE list', train_attribute_MSE_all)\n",
    "print('Test MSE list',test_attribute_MSE_all)"
   ]
  },
  {
   "cell_type": "code",
   "execution_count": 33,
   "metadata": {},
   "outputs": [],
   "source": [
    "train_attribute_MSE_all = {}\n",
    "test_attribute_MSE_all = {}\n",
    "for idx in range(trainX.shape[-1]):\n",
    "    train_attribute_MSE_all[idx] = []\n",
    "    test_attribute_MSE_all[idx] = []\n",
    "\n",
    "#Averaging LR_attribute over 20 runs\n",
    "for i in range(20):\n",
    "    trainX, trainY, testX, testY = get_train_test(df)\n",
    "    # Iterating over each attribute\n",
    "    for idx in range(trainX.shape[-1]):\n",
    "        attribute_train = np.array(trainX[:,idx]).reshape(-1,1)\n",
    "        # Fitting\n",
    "        attribute_weights = LinearRegressionCustom(attribute_train,trainY)\n",
    "        # Prediction\n",
    "        train_pred = predict_LinearRegressionCustom(attribute_train, attribute_weights)\n",
    "        train_mse = compute_mse(trainY, train_pred)\n",
    "        train_attribute_MSE_all[idx].append(train_mse)\n",
    "        attribute_test = np.array(testX[:,idx]).reshape(-1,1)\n",
    "        test_pred = predict_LinearRegressionCustom(attribute_test,attribute_weights)\n",
    "        test_mse = compute_mse(testY, test_pred)\n",
    "        test_attribute_MSE_all[idx].append(test_mse)\n",
    "\n",
    "# print('Train MSE list', train_attribute_MSE_all)\n",
    "# print('Test MSE list',test_attribute_MSE)"
   ]
  },
  {
   "cell_type": "code",
   "execution_count": 34,
   "metadata": {},
   "outputs": [
    {
     "name": "stdout",
     "output_type": "stream",
     "text": [
      "MSE Train attributes mean:  {0: 70.26090906829704, 1: 72.31070306085113, 2: 64.02609127416903, 3: 81.67081960794172, 4: 68.30497035493883, 5: 43.88462150179403, 6: 71.64602224313069, 7: 78.54903652501866, 8: 71.08905370463242, 9: 65.01840012093386, 10: 61.51873615519669, 11: 37.74620075614458}\n",
      "MSE Train attributes sd:  {0: 4.278819239766112, 1: 5.422247381609391, 2: 5.381477811530468, 3: 4.549784344920677, 4: 5.351383124916789, 5: 3.698192573821819, 6: 5.213095758706833, 7: 5.600702344983223, 8: 5.328209419615138, 9: 5.1250134157394776, 10: 4.038658558064396, 11: 2.6062808861447744}\n",
      "MSE Test attributes mean:  {0: 76.72145655869566, 1: 76.42389112299614, 2: 66.45737529404474, 3: 82.97951322030502, 4: 70.8534141925231, 5: 43.497518645679165, 6: 74.44725612022852, 7: 80.98063110962056, 8: 74.75020433022763, 9: 68.18308340162815, 10: 65.53295732819566, 11: 40.20386482826912}\n",
      "MSE Test attributes sd:  {0: 8.35451544901033, 1: 11.035109447380817, 2: 10.964209406194767, 3: 9.415171341987275, 4: 10.848834594532576, 5: 7.441814622164257, 6: 10.507608559640925, 7: 11.462159648879615, 8: 10.848488545398993, 9: 10.515209956729159, 10: 8.185848194218904, 11: 5.315408063579914}\n"
     ]
    }
   ],
   "source": [
    "# 5d\n",
    "mean_MSE_train_attribute = {}\n",
    "mean_MSE_test_attribute = {}\n",
    "sd_MSE_train_attribute = {}\n",
    "sd_MSE_test_attribute = {}\n",
    "\n",
    "for key, values in train_attribute_MSE_all.items():\n",
    "    mean_MSE_train_attribute[key] = np.mean(values) \n",
    "    sd_MSE_train_attribute[key] = np.std(values)\n",
    "for key, values in test_attribute_MSE_all.items():\n",
    "    mean_MSE_test_attribute[key] = np.mean(values)\n",
    "    sd_MSE_test_attribute[key] = np.std(values) \n",
    "print('MSE Train attributes mean: ',mean_MSE_train_attribute)\n",
    "print('MSE Train attributes sd: ',sd_MSE_train_attribute)\n",
    "print('MSE Test attributes mean: ',mean_MSE_test_attribute)\n",
    "print('MSE Test attributes sd: ',sd_MSE_test_attribute)"
   ]
  },
  {
   "cell_type": "markdown",
   "metadata": {},
   "source": [
    "### 4d. Linear Regression using all attributes"
   ]
  },
  {
   "cell_type": "code",
   "execution_count": 21,
   "metadata": {},
   "outputs": [
    {
     "name": "stdout",
     "output_type": "stream",
     "text": [
      "Over all attributes: train_mse: 22.247105274926852, test_mse:23.341646765078483\n"
     ]
    }
   ],
   "source": [
    "# Single Run\n",
    "trainX, trainY, testX, testY = get_train_test(df)\n",
    "# Fitting\n",
    "model_weights = LinearRegressionCustom(trainX,trainY)\n",
    "# Prediction\n",
    "train_pred = predict_LinearRegressionCustom(trainX, model_weights)\n",
    "train_mse = compute_mse(trainY, train_pred)\n",
    "test_pred = predict_LinearRegressionCustom(testX,model_weights)\n",
    "test_mse = compute_mse(testY, test_pred)\n",
    "\n",
    "print(f'Over all attributes: train_mse: {train_mse}, test_mse:{test_mse}')"
   ]
  },
  {
   "cell_type": "code",
   "execution_count": 35,
   "metadata": {},
   "outputs": [
    {
     "name": "stdout",
     "output_type": "stream",
     "text": [
      "Train MSE over all attributes - mean: 21.921379157379935, SD: 1.6187044236477768\n",
      "Test MSE over all attributes - mean: 24.500814188283258, SD: 3.2214767827603064\n"
     ]
    }
   ],
   "source": [
    "#Averaging complete LR over 20 runs\n",
    "train_MSE_list = []\n",
    "test_MSE_list = []\n",
    "for i in range(20):\n",
    "    trainX, trainY, testX, testY = get_train_test(df)\n",
    "    # Fitting\n",
    "    model_weights = LinearRegressionCustom(trainX,trainY)\n",
    "    # Prediction\n",
    "    train_pred = predict_LinearRegressionCustom(trainX, model_weights)\n",
    "    train_mse = compute_mse(trainY, train_pred)\n",
    "    train_MSE_list.append(train_mse)\n",
    "    test_pred = predict_LinearRegressionCustom(testX,model_weights)\n",
    "    test_mse = compute_mse(testY, test_pred)\n",
    "    test_MSE_list.append(test_mse)\n",
    "\n",
    "print(f'Train MSE over all attributes - mean: {np.average(train_MSE_list)}, SD: {np.std(train_MSE_list)}')\n",
    "print(f'Test MSE over all attributes - mean: {np.average(test_MSE_list)}, SD: {np.std(test_MSE_list)}')"
   ]
  },
  {
   "cell_type": "markdown",
   "metadata": {},
   "source": [
    "## Q5 Kernelised ridge regression"
   ]
  },
  {
   "cell_type": "code",
   "execution_count": 36,
   "metadata": {},
   "outputs": [],
   "source": [
    "def gaussian_kernel(xi, xj, sigma):\n",
    "    \"\"\"\n",
    "     Gaussian kernel function of two points.\n",
    "    \"\"\"\n",
    "    return np.exp(-(np.linalg.norm(xi - xj)**2 / (2 * (sigma**2))))\n",
    "\n",
    "def compute_kernel_matrix(x1vals,x2vals, sigma):\n",
    "    \"\"\"\n",
    "     Compute the kernel matrix between two sets of points.\n",
    "    \"\"\"\n",
    "    K = np.zeros((x1vals.shape[0], x2vals.shape[0]))\n",
    "    # Computes the Gaussian kernel of the first dimension of the kernel.\n",
    "    for i in range(x1vals.shape[0]):\n",
    "        for j in range(x2vals.shape[0]):\n",
    "            K[i, j] = gaussian_kernel(x1vals[i], x2vals[j], sigma)\n",
    "    return K"
   ]
  },
  {
   "cell_type": "code",
   "execution_count": 37,
   "metadata": {},
   "outputs": [],
   "source": [
    "def KernelRidgeRegressionCustom(K, yvals, sigma, gamma):\n",
    "    # K = compute_kernel_matrix(xvals,sigma)\n",
    "    # l = xvals.shape[0]\n",
    "    l = K.shape[0]\n",
    "    # alpha* = (K+ gamma.l.I_l)^-1.y\n",
    "    alpha = np.linalg.pinv(K + gamma * l * np.eye(l)) @ yvals\n",
    "    return alpha"
   ]
  },
  {
   "cell_type": "markdown",
   "metadata": {},
   "source": [
    "### 5a. kernel ridge regression on the training set \n",
    "using five-fold cross-validation to choose best γ and σ - report training and test error"
   ]
  },
  {
   "cell_type": "code",
   "execution_count": 38,
   "metadata": {},
   "outputs": [],
   "source": [
    "# Split data into train and test\n",
    "main_train_X, main_train_Y, testX, testY = get_train_test(df)\n",
    "gamma_values = np.array([2**-i for i in range(40, 25, -1)])\n",
    "sigma_values = np.array([2**i for i in range(7, 14)])\n",
    "\n",
    "# Create folds for cross validation\n",
    "n_folds = 5\n",
    "fold_size = int(len(main_train_X)/n_folds)\n",
    "fold_indices = [] \n",
    "indices = np.arange(len(main_train_X))\n",
    "for i in range(n_folds):\n",
    "    start_idx, end_idx = i * fold_size,  (i + 1) * fold_size\n",
    "    validation_indices = indices[start_idx: end_idx]\n",
    "    train_indices = np.concatenate([indices[:start_idx], indices[end_idx:]])\n",
    "    fold_indices.append((train_indices, validation_indices))\n"
   ]
  },
  {
   "cell_type": "code",
   "execution_count": 39,
   "metadata": {},
   "outputs": [
    {
     "name": "stdout",
     "output_type": "stream",
     "text": [
      "Fold 0\n",
      "Fold 1\n",
      "Fold 2\n",
      "Fold 3\n",
      "Fold 4\n"
     ]
    }
   ],
   "source": [
    "# dictionary to store kernel matrices for each training fold for each sigma - 5 folds * 7 sigmas\n",
    "kernel_matrices = {}\n",
    "for fold_num, (train_indices, validation_indices) in enumerate(fold_indices):\n",
    "    x_train_fold = main_train_X[train_indices]\n",
    "    # Precompute and store kernel matrix for each sigma for this fold\n",
    "    for sigma in sigma_values:\n",
    "        fold_sigma_key = (fold_num, sigma)\n",
    "        kernel_matrices[fold_sigma_key] = compute_kernel_matrix(x_train_fold,x_train_fold, sigma) \n",
    "    print(\"Fold\",fold_num)"
   ]
  },
  {
   "cell_type": "markdown",
   "metadata": {},
   "source": [
    "$$f(t) = \\sum_{i=1}^m \\alpha_i K_{\\beta} (x_i, t)$$"
   ]
  },
  {
   "cell_type": "code",
   "execution_count": 40,
   "metadata": {},
   "outputs": [],
   "source": [
    "def predict_KernelRidgeRegressionCustom(x_test,x_train,sigma, alpha):\n",
    "    # implementing equation given above\n",
    "    preds = np.zeros(x_test.shape[0])\n",
    "    for i in range(x_test.shape[0]):\n",
    "        prediction = 0\n",
    "        for j in range(x_train.shape[0]):\n",
    "            prediction += alpha[j] * gaussian_kernel(x_train[j], x_test[i], sigma)\n",
    "        preds[i] = prediction\n",
    "    return preds\n",
    "\n",
    "    "
   ]
  },
  {
   "cell_type": "code",
   "execution_count": 41,
   "metadata": {},
   "outputs": [
    {
     "name": "stdout",
     "output_type": "stream",
     "text": [
      "gamma: 9.094947017729282e-13, sigma: 128, scores: 1550.7754405989729\n",
      "gamma: 9.094947017729282e-13, sigma: 256, scores: 350.1663906128115\n",
      "gamma: 9.094947017729282e-13, sigma: 512, scores: 61.4393749552346\n",
      "gamma: 9.094947017729282e-13, sigma: 1024, scores: 16.479885179750966\n",
      "gamma: 9.094947017729282e-13, sigma: 2048, scores: 14.978601179399737\n",
      "gamma: 9.094947017729282e-13, sigma: 4096, scores: 14.121660941104844\n",
      "gamma: 9.094947017729282e-13, sigma: 8192, scores: 15.924566939289061\n",
      "gamma: 1.8189894035458565e-12, sigma: 128, scores: 867.7566093860487\n",
      "gamma: 1.8189894035458565e-12, sigma: 256, scores: 254.64450195295439\n",
      "gamma: 1.8189894035458565e-12, sigma: 512, scores: 36.857594808054905\n",
      "gamma: 1.8189894035458565e-12, sigma: 1024, scores: 15.677637369672993\n",
      "gamma: 1.8189894035458565e-12, sigma: 2048, scores: 14.78169311033462\n",
      "gamma: 1.8189894035458565e-12, sigma: 4096, scores: 13.892947312979704\n",
      "gamma: 1.8189894035458565e-12, sigma: 8192, scores: 17.83876841241208\n",
      "gamma: 3.637978807091713e-12, sigma: 128, scores: 513.240279478584\n",
      "gamma: 3.637978807091713e-12, sigma: 256, scores: 215.58577437643345\n",
      "gamma: 3.637978807091713e-12, sigma: 512, scores: 22.891989159357486\n",
      "gamma: 3.637978807091713e-12, sigma: 1024, scores: 15.260942494839952\n",
      "gamma: 3.637978807091713e-12, sigma: 2048, scores: 14.547896376860155\n",
      "gamma: 3.637978807091713e-12, sigma: 4096, scores: 13.97194717442604\n",
      "gamma: 3.637978807091713e-12, sigma: 8192, scores: 20.07117706339188\n",
      "gamma: 7.275957614183426e-12, sigma: 128, scores: 325.65629968604713\n",
      "gamma: 7.275957614183426e-12, sigma: 256, scores: 180.13372600708013\n",
      "gamma: 7.275957614183426e-12, sigma: 512, scores: 17.1017876695653\n",
      "gamma: 7.275957614183426e-12, sigma: 1024, scores: 14.971644151919985\n",
      "gamma: 7.275957614183426e-12, sigma: 2048, scores: 14.25708739705551\n",
      "gamma: 7.275957614183426e-12, sigma: 4096, scores: 14.565489806873895\n",
      "gamma: 7.275957614183426e-12, sigma: 8192, scores: 22.080204534650626\n",
      "gamma: 1.4551915228366852e-11, sigma: 128, scores: 236.93342031179458\n",
      "gamma: 1.4551915228366852e-11, sigma: 256, scores: 135.07496572242792\n",
      "gamma: 1.4551915228366852e-11, sigma: 512, scores: 15.446587880877098\n",
      "gamma: 1.4551915228366852e-11, sigma: 1024, scores: 14.713800377208893\n",
      "gamma: 1.4551915228366852e-11, sigma: 2048, scores: 13.944520255036371\n",
      "gamma: 1.4551915228366852e-11, sigma: 4096, scores: 15.807387495592854\n",
      "gamma: 1.4551915228366852e-11, sigma: 8192, scores: 23.534169684897456\n",
      "gamma: 2.9103830456733704e-11, sigma: 128, scores: 206.77836529620973\n",
      "gamma: 2.9103830456733704e-11, sigma: 256, scores: 86.9011473670403\n",
      "gamma: 2.9103830456733704e-11, sigma: 512, scores: 15.135249926751722\n",
      "gamma: 2.9103830456733704e-11, sigma: 1024, scores: 14.463210240732659\n",
      "gamma: 2.9103830456733704e-11, sigma: 2048, scores: 13.746654255664188\n",
      "gamma: 2.9103830456733704e-11, sigma: 4096, scores: 17.677950840463915\n",
      "gamma: 2.9103830456733704e-11, sigma: 8192, scores: 24.478263287653412\n",
      "gamma: 5.820766091346741e-11, sigma: 128, scores: 199.88612168336167\n",
      "gamma: 5.820766091346741e-11, sigma: 256, scores: 49.01191067492063\n",
      "gamma: 5.820766091346741e-11, sigma: 512, scores: 14.995937791920412\n",
      "gamma: 5.820766091346741e-11, sigma: 1024, scores: 14.196055108247403\n",
      "gamma: 5.820766091346741e-11, sigma: 2048, scores: 13.873019067145005\n",
      "gamma: 5.820766091346741e-11, sigma: 4096, scores: 19.882377271955914\n",
      "gamma: 5.820766091346741e-11, sigma: 8192, scores: 25.115338541754387\n",
      "gamma: 1.1641532182693481e-10, sigma: 128, scores: 191.6477465180783\n",
      "gamma: 1.1641532182693481e-10, sigma: 256, scores: 27.282721639539453\n",
      "gamma: 1.1641532182693481e-10, sigma: 512, scores: 14.743302248244413\n",
      "gamma: 1.1641532182693481e-10, sigma: 1024, scores: 13.895485208969092\n",
      "gamma: 1.1641532182693481e-10, sigma: 2048, scores: 14.5268309523434\n",
      "gamma: 1.1641532182693481e-10, sigma: 4096, scores: 21.93791697561725\n",
      "gamma: 1.1641532182693481e-10, sigma: 8192, scores: 25.57321205816421\n",
      "gamma: 2.3283064365386963e-10, sigma: 128, scores: 170.73220303566626\n",
      "gamma: 2.3283064365386963e-10, sigma: 256, scores: 17.897009080733397\n",
      "gamma: 2.3283064365386963e-10, sigma: 512, scores: 14.4176496305416\n",
      "gamma: 2.3283064365386963e-10, sigma: 1024, scores: 13.612952729409159\n",
      "gamma: 2.3283064365386963e-10, sigma: 2048, scores: 15.835733003281925\n",
      "gamma: 2.3283064365386963e-10, sigma: 4096, scores: 23.502762765124935\n",
      "gamma: 2.3283064365386963e-10, sigma: 8192, scores: 25.867974292816804\n",
      "gamma: 4.656612873077393e-10, sigma: 128, scores: 136.10093922002415\n",
      "gamma: 4.656612873077393e-10, sigma: 256, scores: 14.653979735883173\n",
      "gamma: 4.656612873077393e-10, sigma: 512, scores: 14.095702810278013\n",
      "gamma: 4.656612873077393e-10, sigma: 1024, scores: 13.501156528065241\n",
      "gamma: 4.656612873077393e-10, sigma: 2048, scores: 17.75992485723909\n",
      "gamma: 4.656612873077393e-10, sigma: 4096, scores: 24.52654098040297\n",
      "gamma: 4.656612873077393e-10, sigma: 8192, scores: 25.99008906349527\n",
      "gamma: 9.313225746154785e-10, sigma: 128, scores: 95.36796360743294\n",
      "gamma: 9.313225746154785e-10, sigma: 256, scores: 13.72348583732421\n",
      "gamma: 9.313225746154785e-10, sigma: 512, scores: 13.772909751518977\n",
      "gamma: 9.313225746154785e-10, sigma: 1024, scores: 13.773094094654567\n",
      "gamma: 9.313225746154785e-10, sigma: 2048, scores: 19.973704095037526\n",
      "gamma: 9.313225746154785e-10, sigma: 4096, scores: 25.125419447076343\n",
      "gamma: 9.313225746154785e-10, sigma: 8192, scores: 26.007558293115107\n",
      "gamma: 1.862645149230957e-09, sigma: 128, scores: 59.52444926533932\n",
      "gamma: 1.862645149230957e-09, sigma: 256, scores: 13.56973468354993\n",
      "gamma: 1.862645149230957e-09, sigma: 512, scores: 13.45011165245008\n",
      "gamma: 1.862645149230957e-09, sigma: 1024, scores: 14.6075221652633\n",
      "gamma: 1.862645149230957e-09, sigma: 2048, scores: 21.966503866393424\n",
      "gamma: 1.862645149230957e-09, sigma: 4096, scores: 25.44694749796097\n",
      "gamma: 1.862645149230957e-09, sigma: 8192, scores: 26.12648525614002\n",
      "gamma: 3.725290298461914e-09, sigma: 128, scores: 35.266613555136345\n",
      "gamma: 3.725290298461914e-09, sigma: 256, scores: 13.651422717290265\n",
      "gamma: 3.725290298461914e-09, sigma: 512, scores: 13.21930289175288\n",
      "gamma: 3.725290298461914e-09, sigma: 1024, scores: 16.06354074918307\n",
      "gamma: 3.725290298461914e-09, sigma: 2048, scores: 23.399476691312184\n",
      "gamma: 3.725290298461914e-09, sigma: 4096, scores: 25.64879958895841\n",
      "gamma: 3.725290298461914e-09, sigma: 8192, scores: 26.602659730806828\n",
      "gamma: 7.450580596923828e-09, sigma: 128, scores: 22.38139928280938\n",
      "gamma: 7.450580596923828e-09, sigma: 256, scores: 13.728515111025605\n",
      "gamma: 7.450580596923828e-09, sigma: 512, scores: 13.245641293607026\n",
      "gamma: 7.450580596923828e-09, sigma: 1024, scores: 18.022851919839397\n",
      "gamma: 7.450580596923828e-09, sigma: 2048, scores: 24.277266831606813\n",
      "gamma: 7.450580596923828e-09, sigma: 4096, scores: 25.937139348024004\n",
      "gamma: 7.450580596923828e-09, sigma: 8192, scores: 27.504993071494642\n",
      "gamma: 1.4901161193847656e-08, sigma: 128, scores: 16.890628364285842\n",
      "gamma: 1.4901161193847656e-08, sigma: 256, scores: 13.65218118594405\n",
      "gamma: 1.4901161193847656e-08, sigma: 512, scores: 13.70007351684618\n",
      "gamma: 1.4901161193847656e-08, sigma: 1024, scores: 20.127511648111476\n",
      "gamma: 1.4901161193847656e-08, sigma: 2048, scores: 24.835889384309553\n",
      "gamma: 1.4901161193847656e-08, sigma: 4096, scores: 26.53331633057163\n",
      "gamma: 1.4901161193847656e-08, sigma: 8192, scores: 28.691272066813944\n",
      "Best gamma and sigma : 3.725290298461914e-09 512 13.21930289175288\n"
     ]
    }
   ],
   "source": [
    "chosen_gamma, chosen_sigma = None, None\n",
    "best_score = float('inf')\n",
    "\n",
    "cv_errors = np.zeros((len(gamma_values), len(sigma_values)))\n",
    "\n",
    "# 525 total - 5 folds * 7 sigma * 15 gamma\n",
    "for i, gamma in enumerate(gamma_values):\n",
    "    for j, sigma in enumerate(sigma_values):\n",
    "        fold_scores = []\n",
    "\n",
    "        for fold_num, (train_indices, validation_indices) in enumerate(fold_indices):\n",
    "            x_train, y_train = main_train_X[train_indices], main_train_Y[train_indices]\n",
    "            x_validation, y_validation = main_train_X[validation_indices], main_train_Y[validation_indices]\n",
    "            # Retrieve the precomputed kernel matrix for this fold and sigma\n",
    "            K_train = kernel_matrices[(fold_num, sigma)]\n",
    "            \n",
    "            # Train the model on the training data\n",
    "            alpha = KernelRidgeRegressionCustom(K_train, y_train, sigma, gamma)\n",
    "            \n",
    "            # Make predictions on the validation data\n",
    "            y_pred = predict_KernelRidgeRegressionCustom(x_validation, x_train, sigma, alpha)\n",
    "            score = compute_mse(y_validation, y_pred)\n",
    "            fold_scores.append(score)\n",
    "            # print(y_validation, y_pred)\n",
    "\n",
    "        average_score = np.mean(fold_scores)\n",
    "        print(f'gamma: {gamma}, sigma: {sigma}, scores: {average_score}')\n",
    "        cv_errors[i, j] = average_score\n",
    "\n",
    "        if average_score < best_score:\n",
    "            best_score = average_score\n",
    "            chosen_gamma, chosen_sigma = gamma, sigma\n",
    "print('Best gamma and sigma :',chosen_gamma,chosen_sigma,best_score)"
   ]
  },
  {
   "cell_type": "code",
   "execution_count": 42,
   "metadata": {},
   "outputs": [
    {
     "data": {
      "text/plain": [
       "(-28.0, 9.0, 13.21930289175288)"
      ]
     },
     "execution_count": 42,
     "metadata": {},
     "output_type": "execute_result"
    }
   ],
   "source": [
    "np.log2(chosen_gamma), np.log2(chosen_sigma), best_score"
   ]
  },
  {
   "cell_type": "code",
   "execution_count": 43,
   "metadata": {},
   "outputs": [],
   "source": [
    "log2_gammas = np.log2(gamma_values)\n",
    "log2_sigma = np.log2(sigma_values)"
   ]
  },
  {
   "cell_type": "markdown",
   "metadata": {},
   "source": [
    "5 b) Plot the “cross-validation error” (mean over folds of validation error) as a function of γ and σ"
   ]
  },
  {
   "cell_type": "code",
   "execution_count": 44,
   "metadata": {},
   "outputs": [
    {
     "data": {
      "image/png": "[encoded data removed]",
      "text/plain": [
       "<Figure size 800x600 with 2 Axes>"
      ]
     },
     "metadata": {},
     "output_type": "display_data"
    }
   ],
   "source": [
    "# TODO 3D plot?\n",
    "Gamma, Sigma = np.meshgrid(log2_gammas, log2_sigma)\n",
    "plt.figure(figsize=(8, 6))\n",
    "plt.imshow(cv_errors, interpolation='nearest', cmap='viridis', \n",
    "           extent=[log2_gammas.min(), log2_gammas.max(), log2_sigma.min(), log2_sigma.max()],\n",
    "           aspect='auto', origin='lower', vmin=cv_errors.min(), vmax=100)\n",
    "plt.colorbar(label='Cross-validation Error')\n",
    "# plt.xscale('log')\n",
    "# plt.yscale('log')\n",
    "plt.xlabel('Gamma')\n",
    "plt.ylabel('Sigma')\n",
    "plt.title('Cross-validation Error as function of Gamma and Sigma')\n",
    "plt.show()"
   ]
  },
  {
   "cell_type": "markdown",
   "metadata": {},
   "source": [
    "5 c) Calculate the MSE on the training and test sets for the best γ and σ"
   ]
  },
  {
   "cell_type": "code",
   "execution_count": 45,
   "metadata": {},
   "outputs": [
    {
     "name": "stdout",
     "output_type": "stream",
     "text": [
      "Training set score 8.184009734874135\n",
      "Test set score 11.874773255198415\n"
     ]
    }
   ],
   "source": [
    "# Retrain the model with best sigma and best gamma on the entire training set\n",
    "# X, Y\n",
    "# Train the model on the training data\n",
    "K_train = compute_kernel_matrix(main_train_X, main_train_X, chosen_sigma) \n",
    "alpha = KernelRidgeRegressionCustom(K_train, main_train_Y, chosen_sigma, chosen_gamma)\n",
    "\n",
    "# Evaluate on the training set\n",
    "y_pred = predict_KernelRidgeRegressionCustom(main_train_X, main_train_X, chosen_sigma, alpha)\n",
    "trainscore = compute_mse(main_train_Y, y_pred)\n",
    "print('Training set score',trainscore)\n",
    "\n",
    "# Evaluate on the test set # testX, testY\n",
    "y_pred = predict_KernelRidgeRegressionCustom(testX, main_train_X, chosen_sigma, alpha)\n",
    "testscore = compute_mse(testY, y_pred)\n",
    "print('Test set score',testscore)"
   ]
  },
  {
   "cell_type": "markdown",
   "metadata": {},
   "source": [
    "### 5d."
   ]
  },
  {
   "cell_type": "code",
   "execution_count": 46,
   "metadata": {},
   "outputs": [
    {
     "name": "stdout",
     "output_type": "stream",
     "text": [
      "Run 0/20: \n",
      "-Computing kernel matrices ...\n",
      "--Iterating over gammas and sigmas\n",
      "--- Best gamma and sigma for the run : 4.656612873077393e-10 512 12.400608556782602\n",
      "---- Training set score 6.7943199415164255\n",
      "---- Test set score 12.677722999212326\n",
      "Run 1/20: \n",
      "-Computing kernel matrices ...\n",
      "--Iterating over gammas and sigmas\n",
      "--- Best gamma and sigma for the run : 3.725290298461914e-09 512 12.699266265465678\n",
      "---- Training set score 8.0937370239452\n",
      "---- Test set score 11.968982977804892\n",
      "Run 2/20: \n",
      "-Computing kernel matrices ...\n",
      "--Iterating over gammas and sigmas\n",
      "--- Best gamma and sigma for the run : 1.862645149230957e-09 512 10.87325709915405\n",
      "---- Training set score 6.656517531554831\n",
      "---- Test set score 13.581734690165302\n",
      "Run 3/20: \n",
      "-Computing kernel matrices ...\n",
      "--Iterating over gammas and sigmas\n",
      "--- Best gamma and sigma for the run : 9.094947017729282e-13 1024 12.109042540634416\n",
      "---- Training set score 5.313556783388848\n",
      "---- Test set score 12.417498409989895\n",
      "Run 4/20: \n",
      "-Computing kernel matrices ...\n",
      "--Iterating over gammas and sigmas\n",
      "--- Best gamma and sigma for the run : 3.725290298461914e-09 512 14.852262379080369\n",
      "---- Training set score 8.239258775078417\n",
      "---- Test set score 11.770225604594465\n",
      "Run 5/20: \n",
      "-Computing kernel matrices ...\n",
      "--Iterating over gammas and sigmas\n",
      "--- Best gamma and sigma for the run : 9.094947017729282e-13 4096 12.245870588820821\n",
      "---- Training set score 8.7362133157108\n",
      "---- Test set score 13.477950903146036\n",
      "Run 6/20: \n",
      "-Computing kernel matrices ...\n",
      "--Iterating over gammas and sigmas\n",
      "--- Best gamma and sigma for the run : 1.4901161193847656e-08 256 10.662971925063687\n",
      "---- Training set score 6.342838930691697\n",
      "---- Test set score 14.513898023564769\n",
      "Run 7/20: \n",
      "-Computing kernel matrices ...\n",
      "--Iterating over gammas and sigmas\n",
      "--- Best gamma and sigma for the run : 4.656612873077393e-10 512 13.493949607406297\n",
      "---- Training set score 7.337251212277216\n",
      "---- Test set score 11.564839085962353\n",
      "Run 8/20: \n",
      "-Computing kernel matrices ...\n",
      "--Iterating over gammas and sigmas\n",
      "--- Best gamma and sigma for the run : 2.3283064365386963e-10 256 10.967792471683966\n",
      "---- Training set score 3.3749872815655957\n",
      "---- Test set score 20.65660219104254\n",
      "Run 9/20: \n",
      "-Computing kernel matrices ...\n",
      "--Iterating over gammas and sigmas\n",
      "--- Best gamma and sigma for the run : 2.9103830456733704e-11 2048 12.84792578763342\n",
      "---- Training set score 9.510328905998657\n",
      "---- Test set score 11.865634192196426\n",
      "Run 10/20: \n",
      "-Computing kernel matrices ...\n",
      "--Iterating over gammas and sigmas\n",
      "--- Best gamma and sigma for the run : 2.3283064365386963e-10 512 11.582686261357344\n",
      "---- Training set score 6.415849661080564\n",
      "---- Test set score 12.487906103788207\n",
      "Run 11/20: \n",
      "-Computing kernel matrices ...\n",
      "--Iterating over gammas and sigmas\n",
      "--- Best gamma and sigma for the run : 9.094947017729282e-13 4096 10.152964507605883\n",
      "---- Training set score 7.045680097419941\n",
      "---- Test set score 17.944596402640226\n",
      "Run 12/20: \n",
      "-Computing kernel matrices ...\n",
      "--Iterating over gammas and sigmas\n",
      "--- Best gamma and sigma for the run : 3.725290298461914e-09 512 14.350680680911363\n",
      "---- Training set score 9.455382420430237\n",
      "---- Test set score 8.559843155864666\n",
      "Run 13/20: \n",
      "-Computing kernel matrices ...\n",
      "--Iterating over gammas and sigmas\n",
      "--- Best gamma and sigma for the run : 9.094947017729282e-13 2048 11.822198423144187\n",
      "---- Training set score 7.354441283082864\n",
      "---- Test set score 13.52890556555701\n",
      "Run 14/20: \n",
      "-Computing kernel matrices ...\n",
      "--Iterating over gammas and sigmas\n",
      "--- Best gamma and sigma for the run : 1.862645149230957e-09 512 11.758459043740078\n",
      "---- Training set score 7.906330253440132\n",
      "---- Test set score 10.148445948729279\n",
      "Run 15/20: \n",
      "-Computing kernel matrices ...\n",
      "--Iterating over gammas and sigmas\n",
      "--- Best gamma and sigma for the run : 3.725290298461914e-09 512 14.06482959372743\n",
      "---- Training set score 9.12352253885478\n",
      "---- Test set score 8.337444933502967\n",
      "Run 16/20: \n",
      "-Computing kernel matrices ...\n",
      "--Iterating over gammas and sigmas\n",
      "--- Best gamma and sigma for the run : 1.8189894035458565e-12 4096 16.017439989680746\n",
      "---- Training set score 9.638620620828181\n",
      "---- Test set score 11.722313111104103\n",
      "Run 17/20: \n",
      "-Computing kernel matrices ...\n",
      "--Iterating over gammas and sigmas\n",
      "--- Best gamma and sigma for the run : 4.656612873077393e-10 1024 14.735187809941433\n",
      "---- Training set score 10.251446883409448\n",
      "---- Test set score 9.953614615516614\n",
      "Run 18/20: \n",
      "-Computing kernel matrices ...\n",
      "--Iterating over gammas and sigmas\n",
      "--- Best gamma and sigma for the run : 3.725290298461914e-09 512 13.026433360196757\n",
      "---- Training set score 8.138641255490194\n",
      "---- Test set score 12.645341512313582\n",
      "Run 19/20: \n",
      "-Computing kernel matrices ...\n",
      "--Iterating over gammas and sigmas\n",
      "--- Best gamma and sigma for the run : 3.637978807091713e-12 4096 14.077055477986471\n",
      "---- Training set score 10.884338966035683\n",
      "---- Test set score 9.359959543424003\n"
     ]
    }
   ],
   "source": [
    "# Repetition of 4 a,c,d already done above \n",
    "# Below code is Repetition of 5 a and c 20 times\n",
    "\n",
    "gamma_values = np.array([2**-i for i in range(40, 25, -1)])\n",
    "sigma_values = np.array([2**i for i in range(7, 14)])\n",
    "best_20_gammas = []\n",
    "best_20_sigmas = []\n",
    "train_errors_chosenparams = []\n",
    "test_errors_chosenparams = []\n",
    "\n",
    "for repeat in range(20): #TODO:20\n",
    "    print(f'Run {repeat}/20: ')\n",
    "    # Split data into train and test\n",
    "    big_train_X, big_train_Y, testX, testY = get_train_test(df)\n",
    "\n",
    "    # Create folds for cross validation\n",
    "    n_folds = 5\n",
    "    fold_size = int(len(big_train_X)/n_folds)\n",
    "    fold_indices = [] \n",
    "    indices = np.arange(len(big_train_X))\n",
    "    for i in range(n_folds):\n",
    "        start_idx, end_idx = i * fold_size,  (i + 1) * fold_size\n",
    "        validation_indices = indices[start_idx: end_idx]\n",
    "        train_indices = np.concatenate([indices[:start_idx], indices[end_idx:]])\n",
    "        fold_indices.append((train_indices, validation_indices))\n",
    "\n",
    "    # dictionary to store kernel matrices for each training fold for each sigma - 5 folds * 7 sigmas\n",
    "    print('-Computing kernel matrices ...')\n",
    "    kernel_matrices = {}\n",
    "    for fold_num, (train_indices, validation_indices) in enumerate(fold_indices):\n",
    "        x_train_fold = big_train_X[train_indices]\n",
    "        # Precompute and store kernel matrix for each sigma for this fold\n",
    "        for sigma in sigma_values:\n",
    "            fold_sigma_key = (fold_num, sigma)\n",
    "            kernel_matrices[fold_sigma_key] = compute_kernel_matrix(x_train_fold,x_train_fold, sigma) \n",
    "\n",
    "    chosen_gamma, chosen_sigma = None, None\n",
    "    best_score = float('inf')\n",
    "\n",
    "    cv_errors = np.zeros((len(gamma_values), len(sigma_values)))\n",
    "\n",
    "    # 525 total - 5 folds * 7 sigma * 15 gamma\n",
    "    print('--Iterating over gammas and sigmas')\n",
    "    for i, gamma in enumerate(gamma_values):\n",
    "        for j, sigma in enumerate(sigma_values):\n",
    "            fold_scores = []\n",
    "\n",
    "            for fold_num, (train_indices, validation_indices) in enumerate(fold_indices):\n",
    "                x_train, y_train = big_train_X[train_indices], big_train_Y[train_indices]\n",
    "                x_validation, y_validation = big_train_X[validation_indices], big_train_Y[validation_indices]\n",
    "                # Retrieve the precomputed kernel matrix for this fold and sigma\n",
    "                K_train = kernel_matrices[(fold_num, sigma)]\n",
    "                \n",
    "                # Train the model on the training data\n",
    "                alpha = KernelRidgeRegressionCustom(K_train, y_train, sigma, gamma)\n",
    "                \n",
    "                # Make predictions on the validation data\n",
    "                y_pred = predict_KernelRidgeRegressionCustom(x_validation, x_train, sigma, alpha)\n",
    "                score = compute_mse(y_validation, y_pred)\n",
    "                fold_scores.append(score)\n",
    "                # print(y_validation, y_pred)\n",
    "\n",
    "            average_score = np.mean(fold_scores)\n",
    "            # print(f'gamma: {gamma}, sigma: {sigma}, scores: {average_score}')\n",
    "            cv_errors[i, j] = average_score\n",
    "\n",
    "            if average_score < best_score:\n",
    "                best_score = average_score\n",
    "                chosen_gamma, chosen_sigma = gamma, sigma\n",
    "    print('--- Best gamma and sigma for the run :',chosen_gamma,chosen_sigma,best_score)\n",
    "    best_20_gammas.append(chosen_gamma)\n",
    "    best_20_sigmas.append(chosen_sigma)\n",
    "\n",
    "    # Retrain the model with best sigma and best gamma on the entire training set big_train_X, big_train_Y\n",
    "    # Train the model on the training data\n",
    "    K_train = compute_kernel_matrix(big_train_X,big_train_X, chosen_sigma) \n",
    "    alpha = KernelRidgeRegressionCustom(K_train, big_train_Y, chosen_sigma, chosen_gamma)\n",
    "    # Evaluate on the training set\n",
    "    y_pred = predict_KernelRidgeRegressionCustom(big_train_X, big_train_X, chosen_sigma, alpha)\n",
    "    trainscore = compute_mse(big_train_Y, y_pred)\n",
    "    print('---- Training set score',trainscore)\n",
    "    train_errors_chosenparams.append(trainscore)\n",
    "    # Evaluate on the test set\n",
    "    # testX, testY\n",
    "    y_pred = predict_KernelRidgeRegressionCustom(testX, big_train_X, chosen_sigma, alpha)\n",
    "    testscore = compute_mse(testY, y_pred)\n",
    "    print('---- Test set score',testscore)\n",
    "    test_errors_chosenparams.append(testscore)"
   ]
  },
  {
   "cell_type": "code",
   "execution_count": 47,
   "metadata": {},
   "outputs": [
    {
     "name": "stdout",
     "output_type": "stream",
     "text": [
      "MSE of train data:  mean= 7.830663184089985,  sd=1.741928913924968\n",
      "MSE of test data:  mean= 12.459172998505984,  sd=2.836043166725966\n"
     ]
    }
   ],
   "source": [
    "# KRR MSE Train and Test - mean and sd\n",
    "print(f'MSE of train data:  mean= {np.mean(train_errors_chosenparams)},  sd={np.std(train_errors_chosenparams)}')\n",
    "print(f'MSE of test data:  mean= {np.mean(test_errors_chosenparams)},  sd={np.std(test_errors_chosenparams)}')"
   ]
  },
  {
   "cell_type": "code",
   "execution_count": 49,
   "metadata": {},
   "outputs": [
    {
     "name": "stdout",
     "output_type": "stream",
     "text": [
      "[-31. -28. -29. -40. -28. -40. -26. -31. -32. -35. -32. -40. -28. -40.\n",
      " -29. -28. -39. -31. -28. -38.]\n",
      "[ 9.  9.  9. 10.  9. 12.  8.  9.  8. 11.  9. 12.  9. 11.  9.  9. 12. 10.\n",
      "  9. 12.]\n"
     ]
    }
   ],
   "source": [
    "print(np.log2(best_20_gammas))\n",
    "print(np.log2(best_20_sigmas))"
   ]
  }
 ],
 "metadata": {
  "kernelspec": {
   "display_name": "supervisedl",
   "language": "python",
   "name": "python3"
  },
  "language_info": {
   "codemirror_mode": {
    "name": "ipython",
    "version": 3
   },
   "file_extension": ".py",
   "mimetype": "text/x-python",
   "name": "python",
   "nbconvert_exporter": "python",
   "pygments_lexer": "ipython3",
   "version": "3.11.5"
  }
 },
 "nbformat": 4,
 "nbformat_minor": 2
}
